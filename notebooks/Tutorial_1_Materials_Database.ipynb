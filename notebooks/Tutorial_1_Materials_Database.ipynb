{
 "cells": [
  {
   "cell_type": "markdown",
   "metadata": {},
   "source": [
    "# Tutorial 1: Materials Database and Spectral Densities\n",
    "## SPINTRONIC Quantum Dynamics Simulation Framework - Phase 5-7\n",
    "\n",
    "This tutorial demonstrates the extended materials database with 13 2D materials and temperature-dependent phonon coupling.\n",
    "\n",
    "### Learning Objectives\n",
    "1. Import and use the pseudomode Python module\n",
    "2. Explore the 13 available 2D materials\n",
    "3. Compute spectral densities with temperature dependence\n",
    "4. Visualize phonon coupling strengths\n",
    "5. Compare materials for quantum coherence applications"
   ]
  },
  {
   "cell_type": "markdown",
   "metadata": {},
   "source": [
    "## 1. Setup and Imports"
   ]
  },
  {
   "cell_type": "code",
   "execution_count": null,
   "metadata": {},
   "outputs": [],
   "source": [
    "# Import pseudomode framework\n",
    "import sys\n",
    "sys.path.insert(0, '../build')  # Adjust path to your build directory\n",
    "import pseudomode_py as pm\n",
    "\n",
    "# Standard scientific libraries\n",
    "import numpy as np\n",
    "import matplotlib.pyplot as plt\n",
    "import matplotlib as mpl\n",
    "\n",
    "# Configure matplotlib\n",
    "plt.style.use('seaborn-v0_8-darkgrid')\n",
    "mpl.rcParams['figure.figsize'] = (12, 6)\n",
    "mpl.rcParams['font.size'] = 11\n",
    "\n",
    "print(f\"✓ Pseudomode Framework {pm.__version__}\")\n",
    "print(f\"  {pm.__phase__}\")\n",
    "print(f\"  CUDA available: {pm.__cuda_available__}\")\n",
    "print(f\"  Materials in database: {pm.__n_materials__}\")"
   ]
  },
  {
   "cell_type": "markdown",
   "metadata": {},
   "source": [
    "## 2. Explore Available Materials"
   ]
  },
  {
   "cell_type": "code",
   "execution_count": null,
   "metadata": {},
   "outputs": [],
   "source": [
    "# List all materials\n",
    "materials = pm.list_materials()\n",
    "print(f\"Total materials: {len(materials)}\\n\")\n",
    "\n",
    "# Display material properties in a table\n",
    "print(f\"{'Material':<20} {'Band Gap (eV)':<15} {'Mass (m_e)':<15} {'Lattice (Å)':<15}\")\n",
    "print(\"-\" * 65)\n",
    "\n",
    "for mat in materials:\n",
    "    props = pm.material_info(mat)\n",
    "    print(f\"{mat:<20} {props['bandgap']:<15.2f} {props['mass']:<15.2f} {props['lattice_const']:<15.2f}\")"
   ]
  },
  {
   "cell_type": "markdown",
   "metadata": {},
   "source": [
    "## 3. Compute Spectral Density for MoS₂"
   ]
  },
  {
   "cell_type": "code",
   "execution_count": null,
   "metadata": {},
   "outputs": [],
   "source": [
    "# Energy grid (in eV)\n",
    "omega = np.linspace(0.001, 0.15, 500)  # 1 to 150 meV\n",
    "\n",
    "# Compute spectral density at room temperature\n",
    "J_MoS2 = pm.spectral_density(omega.tolist(), \"MoS2\", 300.0)\n",
    "\n",
    "# Plot\n",
    "plt.figure(figsize=(12, 6))\n",
    "plt.plot(omega * 1000, J_MoS2, linewidth=2, label='MoS₂ at 300 K')\n",
    "plt.xlabel('Energy ω (meV)', fontsize=12)\n",
    "plt.ylabel('Spectral Density J(ω)', fontsize=12)\n",
    "plt.title('Phonon Spectral Density of MoS₂ Monolayer', fontsize=14, fontweight='bold')\n",
    "plt.grid(True, alpha=0.3)\n",
    "plt.legend(fontsize=11)\n",
    "plt.tight_layout()\n",
    "plt.show()\n",
    "\n",
    "print(f\"Peak spectral density: {max(J_MoS2):.6f}\")\n",
    "print(f\"Peak location: {omega[np.argmax(J_MoS2)] * 1000:.2f} meV\")"
   ]
  },
  {
   "cell_type": "markdown",
   "metadata": {},
   "source": [
    "## 4. Temperature Dependence"
   ]
  },
  {
   "cell_type": "code",
   "execution_count": null,
   "metadata": {},
   "outputs": [],
   "source": [
    "# Temperature range\n",
    "temperatures = [77, 150, 300, 450]\n",
    "colors = plt.cm.coolwarm(np.linspace(0, 1, len(temperatures)))\n",
    "\n",
    "plt.figure(figsize=(12, 6))\n",
    "\n",
    "for T, color in zip(temperatures, colors):\n",
    "    J = pm.spectral_density(omega.tolist(), \"MoS2\", float(T))\n",
    "    plt.plot(omega * 1000, J, linewidth=2, color=color, label=f'{T} K')\n",
    "\n",
    "plt.xlabel('Energy ω (meV)', fontsize=12)\n",
    "plt.ylabel('Spectral Density J(ω)', fontsize=12)\n",
    "plt.title('Temperature-Dependent Spectral Density of MoS₂', fontsize=14, fontweight='bold')\n",
    "plt.grid(True, alpha=0.3)\n",
    "plt.legend(title='Temperature', fontsize=11)\n",
    "plt.tight_layout()\n",
    "plt.show()\n",
    "\n",
    "print(\"Observation: Spectral density increases with temperature due to enhanced phonon occupation.\")"
   ]
  },
  {
   "cell_type": "markdown",
   "metadata": {},
   "source": [
    "## 5. Materials Comparison"
   ]
  },
  {
   "cell_type": "code",
   "execution_count": null,
   "metadata": {},
   "outputs": [],
   "source": [
    "# Compare TMDs and other 2D materials\n",
    "comparison_materials = ['MoS2', 'WSe2', 'graphene', 'hBN', 'GaN']\n",
    "colors = plt.cm.tab10(np.linspace(0, 1, len(comparison_materials)))\n",
    "\n",
    "plt.figure(figsize=(14, 7))\n",
    "\n",
    "for mat, color in zip(comparison_materials, colors):\n",
    "    J = pm.spectral_density(omega.tolist(), mat, 300.0)\n",
    "    plt.plot(omega * 1000, J, linewidth=2, color=color, label=mat, alpha=0.8)\n",
    "\n",
    "plt.xlabel('Energy ω (meV)', fontsize=12)\n",
    "plt.ylabel('Spectral Density J(ω)', fontsize=12)\n",
    "plt.title('Comparison of 2D Material Spectral Densities at 300 K', fontsize=14, fontweight='bold')\n",
    "plt.grid(True, alpha=0.3)\n",
    "plt.legend(fontsize=11, loc='upper right')\n",
    "plt.xlim(0, 100)\n",
    "plt.tight_layout()\n",
    "plt.show()\n",
    "\n",
    "print(\"\\nKey observations:\")\n",
    "print(\"- TMDs (MoS₂, WSe₂): Strong optical phonon peaks around 30-50 meV\")\n",
    "print(\"- Graphene: Broad acoustic/flexural coupling, minimal optical coupling\")\n",
    "print(\"- hBN: Wide bandgap insulator with weak coupling\")\n",
    "print(\"- GaN: Strong acoustic coupling suitable for piezoelectric applications\")"
   ]
  },
  {
   "cell_type": "markdown",
   "metadata": {},
   "source": [
    "## 6. Phonon Components Analysis"
   ]
  },
  {
   "cell_type": "code",
   "execution_count": null,
   "metadata": {},
   "outputs": [],
   "source": [
    "# Decompose spectral density into components for MoS2\n",
    "omega_fine = np.linspace(0.001, 0.15, 1000)\n",
    "\n",
    "# Get individual components\n",
    "J_acoustic = pm.SpectralDensity2D.acoustic(omega_fine.tolist(), 0.01, 0.04, 1.5)\n",
    "J_flexural = pm.SpectralDensity2D.flexural(omega_fine.tolist(), 0.005, 0.02, 0.3, 2.0)\n",
    "J_optical_1 = pm.SpectralDensity2D.lorentzian_peak(omega_fine.tolist(), 0.048, 0.002, 0.001)\n",
    "J_optical_2 = pm.SpectralDensity2D.lorentzian_peak(omega_fine.tolist(), 0.050, 0.0015, 0.0008)\n",
    "\n",
    "plt.figure(figsize=(14, 7))\n",
    "\n",
    "plt.plot(omega_fine * 1000, J_acoustic, linewidth=2, label='Acoustic (LA/TA)', alpha=0.8)\n",
    "plt.plot(omega_fine * 1000, J_flexural, linewidth=2, label='Flexural (ZA)', alpha=0.8)\n",
    "plt.plot(omega_fine * 1000, J_optical_1, linewidth=2, label=\"Optical (A₁')\", alpha=0.8)\n",
    "plt.plot(omega_fine * 1000, J_optical_2, linewidth=2, label=\"Optical (E')\", alpha=0.8)\n",
    "\n",
    "J_total = np.array(J_acoustic) + np.array(J_flexural) + np.array(J_optical_1) + np.array(J_optical_2)\n",
    "plt.plot(omega_fine * 1000, J_total, 'k--', linewidth=3, label='Total', alpha=0.7)\n",
    "\n",
    "plt.xlabel('Energy ω (meV)', fontsize=12)\n",
    "plt.ylabel('Spectral Density J(ω)', fontsize=12)\n",
    "plt.title('MoS₂ Phonon Components', fontsize=14, fontweight='bold')\n",
    "plt.grid(True, alpha=0.3)\n",
    "plt.legend(fontsize=11)\n",
    "plt.xlim(0, 80)\n",
    "plt.tight_layout()\n",
    "plt.show()"
   ]
  },
  {
   "cell_type": "markdown",
   "metadata": {},
   "source": [
    "## 7. Material Selection for Quantum Coherence\n",
    "\n",
    "Estimate decoherence strength by integrating spectral density."
   ]
  },
  {
   "cell_type": "code",
   "execution_count": null,
   "metadata": {},
   "outputs": [],
   "source": [
    "# Compute integrated spectral density (proxy for decoherence rate)\n",
    "omega_grid = np.linspace(0.001, 0.2, 300)\n",
    "all_materials = pm.list_materials()\n",
    "\n",
    "coherence_metric = {}\n",
    "for mat in all_materials:\n",
    "    try:\n",
    "        J = pm.spectral_density(omega_grid.tolist(), mat, 300.0)\n",
    "        integrated = np.trapz(J, omega_grid)\n",
    "        coherence_metric[mat] = integrated\n",
    "    except:\n",
    "        coherence_metric[mat] = np.nan\n",
    "\n",
    "# Sort by decoherence strength (lower is better for coherence)\n",
    "sorted_materials = sorted(coherence_metric.items(), key=lambda x: x[1] if not np.isnan(x[1]) else 1e10)\n",
    "\n",
    "plt.figure(figsize=(12, 6))\n",
    "materials_names = [m[0] for m in sorted_materials]\n",
    "metrics = [m[1] for m in sorted_materials]\n",
    "\n",
    "colors = ['green' if m < 0.01 else 'orange' if m < 0.02 else 'red' for m in metrics]\n",
    "plt.barh(materials_names, metrics, color=colors, alpha=0.7, edgecolor='black')\n",
    "plt.xlabel('Integrated Spectral Density (arb. units)', fontsize=12)\n",
    "plt.ylabel('Material', fontsize=12)\n",
    "plt.title('Material Ranking for Quantum Coherence (Lower = Better)', fontsize=14, fontweight='bold')\n",
    "plt.grid(True, axis='x', alpha=0.3)\n",
    "plt.tight_layout()\n",
    "plt.show()\n",
    "\n",
    "print(\"\\nTop 3 materials for long coherence:\")\n",
    "for i, (mat, metric) in enumerate(sorted_materials[:3], 1):\n",
    "    print(f\"{i}. {mat}: {metric:.6f}\")"
   ]
  },
  {
   "cell_type": "markdown",
   "metadata": {},
   "source": [
    "## 8. Summary and Next Steps\n",
    "\n",
    "### What We Learned\n",
    "- 13 2D materials available in the database\n",
    "- Temperature-dependent spectral densities\n",
    "- Phonon coupling decomposition (acoustic, flexural, optical)\n",
    "- Materials comparison for quantum applications\n",
    "\n",
    "### Next Tutorials\n",
    "- **Tutorial 2**: Pseudomode fitting and correlation functions\n",
    "- **Tutorial 3**: Quantum dynamics and coherence time extraction\n",
    "- **Tutorial 4**: Custom materials and parameter optimization\n",
    "\n",
    "### Further Reading\n",
    "- Framework documentation: `/workspace/docs/`\n",
    "- API reference: Generated Doxygen HTML\n",
    "- Material database: `src/materials_database.cpp`"
   ]
  }
 ],
 "metadata": {
  "kernelspec": {
   "display_name": "Python 3",
   "language": "python",
   "name": "python3"
  },
  "language_info": {
   "codemirror_mode": {
    "name": "ipython",
    "version": 3
   },
   "file_extension": ".py",
   "mimetype": "text/x-python",
   "name": "python",
   "nbconvert_exporter": "python",
   "pygments_lexer": "ipython3",
   "version": "3.12.0"
  }
 },
 "nbformat": 4,
 "nbformat_minor": 4
}
