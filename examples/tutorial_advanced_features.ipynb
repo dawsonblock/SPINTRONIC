{
 "cells": [
  {
   "cell_type": "markdown",
   "metadata": {},
   "source": [
    "# Advanced Features Tutorial\n",
    "\n",
    "This notebook demonstrates advanced features of the 2D Pseudomode Framework:\n",
    "\n",
    "1. Custom spectral densities\n",
    "2. Adaptive truncation schemes\n",
    "3. GPU acceleration\n",
    "4. Batch processing for materials screening\n",
    "5. Performance profiling"
   ]
  },
  {
   "cell_type": "code",
   "execution_count": null,
   "metadata": {},
   "outputs": [],
   "source": [
    "import numpy as np\n",
    "import matplotlib.pyplot as plt\n",
    "import pseudomode_py as pm\n",
    "import time\n",
    "\n",
    "%matplotlib inline"
   ]
  },
  {
   "cell_type": "markdown",
   "metadata": {},
   "source": [
    "## 1. Custom Spectral Densities\n",
    "\n",
    "Build custom spectral densities by combining multiple components."
   ]
  },
  {
   "cell_type": "code",
   "execution_count": null,
   "metadata": {},
   "outputs": [],
   "source": [
    "omega = np.linspace(0, 5, 1000)\n",
    "\n",
    "# Combine acoustic, flexural, and discrete phonon modes\n",
    "J_acoustic = pm.SpectralDensity2D.acoustic(omega, alpha=0.5, omega_c=1.0, q=1.5)\n",
    "J_flexural = pm.SpectralDensity2D.flexural(omega, alpha_f=0.3, omega_f=0.5, s_f=0.5, q=2.0)\n",
    "J_optical = pm.SpectralDensity2D.lorentzian_peak(omega, Omega_j=2.5, lambda_j=0.8, Gamma_j=0.15)\n",
    "\n",
    "# Total spectral density\n",
    "J_total = np.array(J_acoustic) + np.array(J_flexural) + np.array(J_optical)\n",
    "\n",
    "# Plot components\n",
    "plt.figure(figsize=(12, 6))\n",
    "plt.plot(omega, J_acoustic, label='Acoustic', linewidth=2)\n",
    "plt.plot(omega, J_flexural, label='Flexural (ZA)', linewidth=2)\n",
    "plt.plot(omega, J_optical, label='Optical Peak', linewidth=2)\n",
    "plt.plot(omega, J_total, 'k--', label='Total', linewidth=2.5)\n",
    "plt.xlabel('Energy (eV)', fontsize=14)\n",
    "plt.ylabel('Spectral Density J(ω)', fontsize=14)\n",
    "plt.title('Custom Composite Spectral Density', fontsize=16)\n",
    "plt.legend(fontsize=12)\n",
    "plt.grid(True, alpha=0.3)\n",
    "plt.show()"
   ]
  },
  {
   "cell_type": "markdown",
   "metadata": {},
   "source": [
    "## 2. Adaptive Truncation Analysis\n",
    "\n",
    "Explore how adaptive Hilbert space truncation improves efficiency."
   ]
  },
  {
   "cell_type": "code",
   "execution_count": null,
   "metadata": {},
   "outputs": [],
   "source": [
    "# Test different truncation thresholds\n",
    "truncation_thresholds = [0.001, 0.01, 0.05, 0.1]\n",
    "n_max_values = []\n",
    "computation_times = []\n",
    "\n",
    "for threshold in truncation_thresholds:\n",
    "    config = pm.SimulationConfig()\n",
    "    config.max_pseudomodes = 4\n",
    "    config.total_time_ps = 10.0\n",
    "    config.occupation_threshold = threshold\n",
    "    \n",
    "    # Compute adaptive n_max\n",
    "    modes = [pm.PseudomodeParams(omega_eV=1.0, gamma_eV=0.1, g_eV=0.5)]\n",
    "    n_max = pm.Utils.compute_adaptive_n_max(modes, temperature_K=300.0, \n",
    "                                             occupation_threshold=threshold)\n",
    "    n_max_values.append(n_max)\n",
    "    \n",
    "    print(f\"Threshold {threshold:.3f}: n_max = {n_max}\")\n",
    "\n",
    "# Plot threshold vs Hilbert space size\n",
    "plt.figure(figsize=(10, 6))\n",
    "plt.plot(truncation_thresholds, n_max_values, 'o-', linewidth=2, markersize=10)\n",
    "plt.xlabel('Occupation Threshold', fontsize=14)\n",
    "plt.ylabel('Adaptive n_max', fontsize=14)\n",
    "plt.title('Adaptive Truncation: Threshold vs Hilbert Space Size', fontsize=16)\n",
    "plt.xscale('log')\n",
    "plt.grid(True, alpha=0.3)\n",
    "plt.show()"
   ]
  },
  {
   "cell_type": "markdown",
   "metadata": {},
   "source": [
    "## 3. GPU vs CPU Performance Comparison"
   ]
  },
  {
   "cell_type": "code",
   "execution_count": null,
   "metadata": {},
   "outputs": [],
   "source": [
    "# Setup\n",
    "system_params = pm.System2DParams()\n",
    "system_params.omega0_eV = 1.4\n",
    "system_params.temperature_K = 300.0\n",
    "\n",
    "omega_grid = np.linspace(0, 5, 500)\n",
    "time_grid = np.linspace(0, 20, 200)\n",
    "\n",
    "# CPU benchmark\n",
    "config_cpu = pm.SimulationConfig()\n",
    "config_cpu.use_gpu = False\n",
    "config_cpu.max_pseudomodes = 5\n",
    "\n",
    "framework_cpu = pm.PseudomodeFramework2D(config_cpu)\n",
    "\n",
    "start = time.time()\n",
    "result_cpu = framework_cpu.simulate_material(\"graphene\", system_params, omega_grid, time_grid)\n",
    "time_cpu = time.time() - start\n",
    "\n",
    "# GPU benchmark\n",
    "config_gpu = pm.SimulationConfig()\n",
    "config_gpu.use_gpu = True\n",
    "config_gpu.max_pseudomodes = 5\n",
    "\n",
    "framework_gpu = pm.PseudomodeFramework2D(config_gpu)\n",
    "\n",
    "start = time.time()\n",
    "result_gpu = framework_gpu.simulate_material(\"graphene\", system_params, omega_grid, time_grid)\n",
    "time_gpu = time.time() - start\n",
    "\n",
    "# Compare\n",
    "print(f\"CPU time: {time_cpu:.3f} s\")\n",
    "print(f\"GPU time: {time_gpu:.3f} s\")\n",
    "print(f\"Speedup: {time_cpu/time_gpu:.2f}x\")\n",
    "\n",
    "# Visualize\n",
    "fig, ax = plt.subplots(figsize=(8, 6))\n",
    "ax.bar(['CPU', 'GPU'], [time_cpu, time_gpu], color=['#3498db', '#2ecc71'])\n",
    "ax.set_ylabel('Computation Time (s)', fontsize=14)\n",
    "ax.set_title('CPU vs GPU Performance', fontsize=16)\n",
    "ax.grid(True, axis='y', alpha=0.3)\n",
    "plt.show()"
   ]
  },
  {
   "cell_type": "markdown",
   "metadata": {},
   "source": [
    "## 4. Batch Materials Screening\n",
    "\n",
    "Process multiple materials in parallel for high-throughput screening."
   ]
  },
  {
   "cell_type": "code",
   "execution_count": null,
   "metadata": {},
   "outputs": [],
   "source": [
    "# Materials to screen\n",
    "materials = ['graphene', 'MoS2', 'WS2', 'hBN']\n",
    "\n",
    "# System parameters for each material\n",
    "systems = [pm.System2DParams() for _ in materials]\n",
    "for sys in systems:\n",
    "    sys.omega0_eV = 1.4\n",
    "    sys.temperature_K = 300.0\n",
    "\n",
    "# Batch simulation\n",
    "config = pm.SimulationConfig()\n",
    "config.max_pseudomodes = 4\n",
    "config.total_time_ps = 20.0\n",
    "\n",
    "framework = pm.PseudomodeFramework2D(config)\n",
    "\n",
    "print(\"Running batch simulation...\")\n",
    "results = framework.batch_simulate(materials, systems, n_parallel_jobs=-1)\n",
    "\n",
    "# Extract and compare coherence times\n",
    "T1_values = [r.coherence_times.T1_ps for r in results]\n",
    "T2_values = [r.coherence_times.T2_star_ps for r in results]\n",
    "\n",
    "# Plot comparison\n",
    "x = np.arange(len(materials))\n",
    "width = 0.35\n",
    "\n",
    "fig, ax = plt.subplots(figsize=(12, 6))\n",
    "ax.bar(x - width/2, T1_values, width, label='T₁', alpha=0.8)\n",
    "ax.bar(x + width/2, T2_values, width, label='T₂*', alpha=0.8)\n",
    "\n",
    "ax.set_xlabel('Material', fontsize=14)\n",
    "ax.set_ylabel('Coherence Time (ps)', fontsize=14)\n",
    "ax.set_title('Materials Screening: Coherence Times Comparison', fontsize=16)\n",
    "ax.set_xticks(x)\n",
    "ax.set_xticklabels(materials)\n",
    "ax.legend(fontsize=12)\n",
    "ax.grid(True, axis='y', alpha=0.3)\n",
    "plt.tight_layout()\n",
    "plt.show()\n",
    "\n",
    "# Print ranking\n",
    "print(\"\\nMaterial Ranking by T₂*:\")\n",
    "ranking = sorted(zip(materials, T2_values), key=lambda x: x[1], reverse=True)\n",
    "for i, (mat, t2) in enumerate(ranking, 1):\n",
    "    print(f\"{i}. {mat}: T₂* = {t2:.2f} ps\")"
   ]
  },
  {
   "cell_type": "markdown",
   "metadata": {},
   "source": [
    "## 5. Memory Usage Estimation\n",
    "\n",
    "Estimate memory requirements for different system sizes."
   ]
  },
  {
   "cell_type": "code",
   "execution_count": null,
   "metadata": {},
   "outputs": [],
   "source": [
    "# Test different configurations\n",
    "n_pseudomodes_range = range(1, 11)\n",
    "memory_usage = []\n",
    "\n",
    "system_dim = 2  # Qubit\n",
    "n_max = 5\n",
    "\n",
    "for n_modes in n_pseudomodes_range:\n",
    "    mem_bytes = pm.Utils.estimate_memory_usage(system_dim, n_modes, n_max)\n",
    "    mem_mb = mem_bytes / (1024 * 1024)\n",
    "    memory_usage.append(mem_mb)\n",
    "    print(f\"n_modes = {n_modes}: {mem_mb:.2f} MB\")\n",
    "\n",
    "# Plot scaling\n",
    "plt.figure(figsize=(10, 6))\n",
    "plt.semilogy(list(n_pseudomodes_range), memory_usage, 'o-', linewidth=2, markersize=8)\n",
    "plt.xlabel('Number of Pseudomodes', fontsize=14)\n",
    "plt.ylabel('Memory Usage (MB)', fontsize=14)\n",
    "plt.title('Memory Scaling with System Size', fontsize=16)\n",
    "plt.grid(True, alpha=0.3)\n",
    "plt.tight_layout()\n",
    "plt.show()"
   ]
  }
 ],
 "metadata": {
  "kernelspec": {
   "display_name": "Python 3",
   "language": "python",
   "name": "python3"
  },
  "language_info": {
   "codemirror_mode": {
    "name": "ipython",
    "version": 3
   },
   "file_extension": ".py",
   "mimetype": "text/x-python",
   "name": "python",
   "nbconvert_exporter": "python",
   "pygments_lexer": "ipython3",
   "version": "3.8.0"
  }
 },
 "nbformat": 4,
 "nbformat_minor": 4
}
