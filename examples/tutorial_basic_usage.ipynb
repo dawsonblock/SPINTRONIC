{
 "cells": [
  {
   "cell_type": "markdown",
   "metadata": {},
   "source": [
    "# 2D Pseudomode Framework - Basic Usage Tutorial\n",
    "\n",
    "This notebook demonstrates the basic usage of the 2D Pseudomode Framework for simulating non-Markovian quantum dynamics in 2D materials.\n",
    "\n",
    "## Installation\n",
    "\n",
    "First, ensure you have the Python bindings installed:\n",
    "\n",
    "```bash\n",
    "pip install pseudomode-framework\n",
    "```\n",
    "\n",
    "Or build from source:\n",
    "\n",
    "```bash\n",
    "mkdir build && cd build\n",
    "cmake .. -DBUILD_PYTHON_BINDINGS=ON\n",
    "make -j$(nproc)\n",
    "make install\n",
    "```"
   ]
  },
  {
   "cell_type": "code",
   "execution_count": null,
   "metadata": {},
   "outputs": [],
   "source": [
    "import numpy as np\n",
    "import matplotlib.pyplot as plt\n",
    "import pseudomode_py as pm\n",
    "\n",
    "# Set plot style\n",
    "plt.style.use('seaborn-v0_8-darkgrid')\n",
    "%matplotlib inline"
   ]
  },
  {
   "cell_type": "markdown",
   "metadata": {},
   "source": [
    "## 1. Define System Parameters\n",
    "\n",
    "We'll simulate a qubit coupled to phonons in graphene."
   ]
  },
  {
   "cell_type": "code",
   "execution_count": null,
   "metadata": {},
   "outputs": [],
   "source": [
    "# System parameters\n",
    "system_params = pm.System2DParams()\n",
    "system_params.omega0_eV = 1.4  # System frequency (eV)\n",
    "system_params.temperature_K = 300.0  # Room temperature\n",
    "\n",
    "# Simulation configuration\n",
    "config = pm.SimulationConfig()\n",
    "config.max_pseudomodes = 5\n",
    "config.adaptive_n_max = 4\n",
    "config.time_step_ps = 0.01\n",
    "config.total_time_ps = 50.0\n",
    "config.use_gpu = True  # Enable GPU acceleration if available\n",
    "\n",
    "print(f\"System frequency: {system_params.omega0_eV} eV\")\n",
    "print(f\"Temperature: {system_params.temperature_K} K\")\n",
    "print(f\"Max pseudomodes: {config.max_pseudomodes}\")"
   ]
  },
  {
   "cell_type": "markdown",
   "metadata": {},
   "source": [
    "## 2. Build Spectral Density\n",
    "\n",
    "Define the spectral density function J(ω) for graphene phonons."
   ]
  },
  {
   "cell_type": "code",
   "execution_count": null,
   "metadata": {},
   "outputs": [],
   "source": [
    "# Frequency grid\n",
    "omega_grid = np.linspace(0, 5.0, 1000)  # 0 to 5 eV\n",
    "\n",
    "# Build graphene spectral density\n",
    "J_omega = pm.SpectralDensity2D.build_material_spectrum(\n",
    "    omega_grid, \"graphene\"\n",
    ")\n",
    "\n",
    "# Plot spectral density\n",
    "plt.figure(figsize=(10, 6))\n",
    "plt.plot(omega_grid, J_omega, linewidth=2)\n",
    "plt.xlabel('Energy (eV)', fontsize=14)\n",
    "plt.ylabel('Spectral Density J(ω) (eV)', fontsize=14)\n",
    "plt.title('Graphene Phonon Spectral Density', fontsize=16)\n",
    "plt.grid(True, alpha=0.3)\n",
    "plt.tight_layout()\n",
    "plt.show()\n",
    "\n",
    "print(f\"Peak spectral density: {np.max(J_omega):.4f} eV\")\n",
    "print(f\"Peak location: {omega_grid[np.argmax(J_omega)]:.4f} eV\")"
   ]
  },
  {
   "cell_type": "markdown",
   "metadata": {},
   "source": [
    "## 3. Run Pseudomode Simulation\n",
    "\n",
    "Execute the complete workflow: fitting → dynamics → coherence times."
   ]
  },
  {
   "cell_type": "code",
   "execution_count": null,
   "metadata": {},
   "outputs": [],
   "source": [
    "# Create framework instance\n",
    "framework = pm.PseudomodeFramework2D(config)\n",
    "\n",
    "# Time grid for evolution\n",
    "time_grid = np.linspace(0, config.total_time_ps, 500)\n",
    "\n",
    "# Run simulation\n",
    "print(\"Running simulation...\")\n",
    "result = framework.simulate_material(\n",
    "    \"graphene\",\n",
    "    system_params,\n",
    "    omega_grid,\n",
    "    time_grid\n",
    ")\n",
    "\n",
    "print(f\"\\nSimulation completed in {result.computation_time_seconds:.2f} seconds\")\n",
    "print(f\"Status: {result.status}\")\n",
    "print(f\"\\nFitted pseudomodes: {len(result.fitted_modes)}\")\n",
    "\n",
    "# Display fitted modes\n",
    "for i, mode in enumerate(result.fitted_modes):\n",
    "    print(f\"  Mode {i+1}: ω = {mode.omega_eV:.4f} eV, γ = {mode.gamma_eV:.4f} eV, g = {mode.g_eV:.4f} eV\")"
   ]
  },
  {
   "cell_type": "markdown",
   "metadata": {},
   "source": [
    "## 4. Extract Coherence Times\n",
    "\n",
    "Calculate T₁, T₂*, and T₂ from the dynamics."
   ]
  },
  {
   "cell_type": "code",
   "execution_count": null,
   "metadata": {},
   "outputs": [],
   "source": [
    "coherence = result.coherence_times\n",
    "\n",
    "print(\"Coherence Times:\")\n",
    "print(f\"  T₁ (relaxation):        {coherence.T1_ps:.2f} ps\")\n",
    "print(f\"  T₂* (dephasing):        {coherence.T2_star_ps:.2f} ps\")\n",
    "print(f\"  T₂ (echo):              {coherence.T2_echo_ps:.2f} ps\")\n",
    "\n",
    "# Visualize coherence times\n",
    "fig, ax = plt.subplots(figsize=(8, 6))\n",
    "times = [coherence.T1_ps, coherence.T2_star_ps, coherence.T2_echo_ps]\n",
    "labels = ['T₁', 'T₂*', 'T₂']\n",
    "colors = ['#e74c3c', '#3498db', '#2ecc71']\n",
    "\n",
    "ax.bar(labels, times, color=colors, alpha=0.7, edgecolor='black', linewidth=2)\n",
    "ax.set_ylabel('Time (ps)', fontsize=14)\n",
    "ax.set_title('Coherence Times in Graphene', fontsize=16)\n",
    "ax.grid(True, axis='y', alpha=0.3)\n",
    "plt.tight_layout()\n",
    "plt.show()"
   ]
  },
  {
   "cell_type": "markdown",
   "metadata": {},
   "source": [
    "## 5. Analyze Time Evolution\n",
    "\n",
    "Plot population and coherence dynamics."
   ]
  },
  {
   "cell_type": "code",
   "execution_count": null,
   "metadata": {},
   "outputs": [],
   "source": [
    "# Extract populations and coherences from time evolution\n",
    "populations = []\n",
    "coherences = []\n",
    "\n",
    "for state in result.time_evolution:\n",
    "    # Get reduced density matrix (system only)\n",
    "    rho_sys = state.partial_trace_system()\n",
    "    \n",
    "    # Extract populations (diagonal elements)\n",
    "    # This is pseudo-code - actual implementation depends on API\n",
    "    pop_0 = abs(rho_sys[0, 0])\n",
    "    populations.append(pop_0)\n",
    "    \n",
    "    # Extract coherence (off-diagonal element)\n",
    "    coh = abs(rho_sys[0, 1])\n",
    "    coherences.append(coh)\n",
    "\n",
    "# Plot dynamics\n",
    "fig, (ax1, ax2) = plt.subplots(2, 1, figsize=(12, 10))\n",
    "\n",
    "# Population dynamics\n",
    "ax1.plot(time_grid, populations, linewidth=2, label='P₀(t)')\n",
    "ax1.plot(time_grid, 1 - np.array(populations), linewidth=2, label='P₁(t)')\n",
    "ax1.set_xlabel('Time (ps)', fontsize=12)\n",
    "ax1.set_ylabel('Population', fontsize=12)\n",
    "ax1.set_title('Population Dynamics', fontsize=14)\n",
    "ax1.legend(fontsize=12)\n",
    "ax1.grid(True, alpha=0.3)\n",
    "\n",
    "# Coherence dynamics\n",
    "ax2.plot(time_grid, coherences, linewidth=2, color='#e74c3c')\n",
    "ax2.set_xlabel('Time (ps)', fontsize=12)\n",
    "ax2.set_ylabel('|ρ₀₁(t)|', fontsize=12)\n",
    "ax2.set_title('Coherence Decay', fontsize=14)\n",
    "ax2.grid(True, alpha=0.3)\n",
    "\n",
    "# Fit exponential decay\n",
    "from scipy.optimize import curve_fit\n",
    "\n",
    "def exp_decay(t, A, T):\n",
    "    return A * np.exp(-t / T)\n",
    "\n",
    "popt, _ = curve_fit(exp_decay, time_grid, coherences, p0=[1.0, 10.0])\n",
    "ax2.plot(time_grid, exp_decay(time_grid, *popt), '--', \n",
    "         linewidth=2, color='black', label=f'Fit: T₂* = {popt[1]:.2f} ps')\n",
    "ax2.legend(fontsize=12)\n",
    "\n",
    "plt.tight_layout()\n",
    "plt.show()"
   ]
  },
  {
   "cell_type": "markdown",
   "metadata": {},
   "source": [
    "## 6. Export Results\n",
    "\n",
    "Save simulation results in various formats."
   ]
  },
  {
   "cell_type": "code",
   "execution_count": null,
   "metadata": {},
   "outputs": [],
   "source": [
    "# Export to JSON\n",
    "framework.export_results(result, \"graphene_simulation.json\", format=\"json\")\n",
    "print(\"Results exported to: graphene_simulation.json\")\n",
    "\n",
    "# Export to HDF5 (if available)\n",
    "try:\n",
    "    framework.export_results(result, \"graphene_simulation.h5\", format=\"hdf5\")\n",
    "    print(\"Results exported to: graphene_simulation.h5\")\n",
    "except:\n",
    "    print(\"HDF5 export not available\")\n",
    "\n",
    "# Export coherence times to CSV\n",
    "import pandas as pd\n",
    "\n",
    "df = pd.DataFrame({\n",
    "    'Material': ['graphene'],\n",
    "    'T1_ps': [coherence.T1_ps],\n",
    "    'T2star_ps': [coherence.T2_star_ps],\n",
    "    'T2_ps': [coherence.T2_echo_ps]\n",
    "})\n",
    "\n",
    "df.to_csv('coherence_times.csv', index=False)\n",
    "print(\"Coherence times exported to: coherence_times.csv\")"
   ]
  },
  {
   "cell_type": "markdown",
   "metadata": {},
   "source": [
    "## Next Steps\n",
    "\n",
    "- Try different materials: MoS2, WS2, hBN, etc.\n",
    "- Vary temperature and system parameters\n",
    "- Compare CPU vs GPU performance\n",
    "- Explore advanced features: custom spectral densities, adaptive truncation\n",
    "\n",
    "See the [documentation](https://docs.pseudomode-framework.org) for more details."
   ]
  }
 ],
 "metadata": {
  "kernelspec": {
   "display_name": "Python 3",
   "language": "python",
   "name": "python3"
  },
  "language_info": {
   "codemirror_mode": {
    "name": "ipython",
    "version": 3
   },
   "file_extension": ".py",
   "mimetype": "text/x-python",
   "name": "python",
   "nbconvert_exporter": "python",
   "pygments_lexer": "ipython3",
   "version": "3.8.0"
  }
 },
 "nbformat": 4,
 "nbformat_minor": 4
}
